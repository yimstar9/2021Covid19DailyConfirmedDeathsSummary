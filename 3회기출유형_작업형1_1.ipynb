{
  "nbformat": 4,
  "nbformat_minor": 0,
  "metadata": {
    "colab": {
      "provenance": [],
      "collapsed_sections": [],
      "authorship_tag": "ABX9TyMZIu4eu9LOEUnetsynEJi2",
      "include_colab_link": true
    },
    "kernelspec": {
      "name": "ir",
      "display_name": "R"
    },
    "language_info": {
      "name": "R"
    }
  },
  "cells": [
    {
      "cell_type": "markdown",
      "metadata": {
        "id": "view-in-github",
        "colab_type": "text"
      },
      "source": [
        "<a href=\"https://colab.research.google.com/github/yimstar9/DailyCovid19Summary-in-2021/blob/main/3%ED%9A%8C%EA%B8%B0%EC%B6%9C%EC%9C%A0%ED%98%95_%EC%9E%91%EC%97%85%ED%98%951_1.ipynb\" target=\"_parent\"><img src=\"https://colab.research.google.com/assets/colab-badge.svg\" alt=\"Open In Colab\"/></a>"
      ]
    },
    {
      "cell_type": "code",
      "execution_count": 68,
      "metadata": {
        "colab": {
          "base_uri": "https://localhost:8080/",
          "height": 34
        },
        "id": "4mlvnmTbvx9S",
        "outputId": "978c2f53-e982-48e8-bc63-96fcc6deb1fc"
      },
      "outputs": [
        {
          "output_type": "display_data",
          "data": {
            "text/html": [
              "50"
            ],
            "text/markdown": "50",
            "text/latex": "50",
            "text/plain": [
              "[1] 50"
            ]
          },
          "metadata": {}
        }
      ],
      "source": [
        "#https://www.kaggle.com/code/judyleee/3rd-type1-1-3-1-1\n",
        "a<-read.csv('t1-data2.csv',row.names=1)\n",
        "mid<-median(as.numeric(a[1,]))\n",
        "loc<-which(mid<a[1,])\n",
        "length(a[1,c(loc)])"
      ]
    }
  ]
}